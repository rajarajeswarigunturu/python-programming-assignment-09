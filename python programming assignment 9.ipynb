{
 "cells": [
  {
   "cell_type": "code",
   "execution_count": null,
   "id": "c0bc7d06",
   "metadata": {},
   "outputs": [],
   "source": [
    "#1.Write a Python program to check if the given number is a Disarium Number?\n",
    "\n",
    "#  A Disarium number is a number in which the sum of the digits to the power of their\n",
    "#  respective position is equal to the number itself (position is counted from left to right starting from 1)."
   ]
  },
  {
   "cell_type": "code",
   "execution_count": 23,
   "id": "9fd2c706",
   "metadata": {},
   "outputs": [
    {
     "name": "stdout",
     "output_type": "stream",
     "text": [
      "Enter a number to find whether it is a disarium number or not:-156\n",
      "THE SUM OF DIGITS = 242\n",
      "156 is not a disarium number\n"
     ]
    }
   ],
   "source": [
    "numb = int(input(\"Enter a number to find whether it is a disarium number or not:-\"))\n",
    "length = len(str(numb))\n",
    "temp = numb\n",
    "sum = 0\n",
    "rem = 0\n",
    "\n",
    "while temp > 0:\n",
    "    rem = temp % 10\n",
    "    sum = sum + int(rem**length)\n",
    "    temp = temp//10\n",
    "    length = length - 1\n",
    "\n",
    "print(\"THE SUM OF DIGITS = %d\" %sum)\n",
    "if sum == numb:\n",
    "    print(\"\\n%d is a disarium number\" %numb)\n",
    "else:\n",
    "    print(\"%d is not a disarium number\" %numb)\n",
    "    "
   ]
  },
  {
   "cell_type": "code",
   "execution_count": 24,
   "id": "97e02d5a",
   "metadata": {},
   "outputs": [
    {
     "name": "stdout",
     "output_type": "stream",
     "text": [
      "Enter a number to find whether it is a disarium number or not:-175\n",
      "THE SUM OF DIGITS = 175\n",
      "\n",
      "175 is a disarium number\n"
     ]
    }
   ],
   "source": [
    "numb = int(input(\"Enter a number to find whether it is a disarium number or not:-\"))\n",
    "length = len(str(numb))\n",
    "temp = numb\n",
    "sum = 0\n",
    "rem = 0\n",
    "\n",
    "while temp > 0:\n",
    "    rem = temp % 10\n",
    "    sum = sum + int(rem**length)\n",
    "    temp = temp//10\n",
    "    length = length - 1\n",
    "\n",
    "print(\"THE SUM OF DIGITS = %d\" %sum)\n",
    "if sum == numb:\n",
    "    print(\"\\n%d is a disarium number\" %numb)\n",
    "else:\n",
    "    print(\"%d is not a disarium number\" %numb)"
   ]
  },
  {
   "cell_type": "code",
   "execution_count": null,
   "id": "cd516095",
   "metadata": {},
   "outputs": [],
   "source": [
    "#2.Write a Python program to print all disarium numbers between 1 to 100?"
   ]
  },
  {
   "cell_type": "code",
   "execution_count": 36,
   "id": "3c63b013",
   "metadata": {},
   "outputs": [
    {
     "name": "stdout",
     "output_type": "stream",
     "text": [
      "Disarium numbers between 1 and 100 are\n",
      "1\n",
      "2\n",
      "3\n",
      "4\n",
      "5\n",
      "6\n",
      "7\n",
      "8\n",
      "9\n",
      "89\n"
     ]
    }
   ],
   "source": [
    "def calc_length(n):  \n",
    "    length = 0\n",
    "    while(n != 0):  \n",
    "        length = length + 1 \n",
    "        n = n//10  \n",
    "    return length \n",
    "   \n",
    "def sum_of_digits(num):  \n",
    "    rem = sum = 0  \n",
    "    len = calc_length(num);  \n",
    "      \n",
    "    while(num > 0):  \n",
    "        rem = num % 10 \n",
    "        sum = sum + (rem**len) \n",
    "        num = num//10\n",
    "        len = len - 1  \n",
    "    return sum \n",
    "    \n",
    "result = 0\n",
    "\n",
    "print(\"Disarium numbers between 1 and 100 are\")\n",
    "for i in range(1, 101):  \n",
    "    result = sumOfDigits(i)  \n",
    "      \n",
    "    if(result == i):  \n",
    "        print(i) "
   ]
  },
  {
   "cell_type": "code",
   "execution_count": null,
   "id": "01d0bf40",
   "metadata": {},
   "outputs": [],
   "source": [
    "#3.Write a Python program to check if the given number is Happy Number?\n",
    "\n",
    "# A A number is called happy if it leads to 1 after a sequence\n",
    "# of steps wherein each step number is replaced by the sum of \n",
    "# squares of its digit that is if we start with Happy Number \n",
    "# and keep replacing it with digits square sum, we reach 1. "
   ]
  },
  {
   "cell_type": "code",
   "execution_count": 18,
   "id": "1ccbf84d",
   "metadata": {},
   "outputs": [
    {
     "name": "stdout",
     "output_type": "stream",
     "text": [
      "Enter Value = 14\n",
      "It is Not a Happy Number\n"
     ]
    }
   ],
   "source": [
    "def sqrSum(n):\n",
    "    tot =  0\n",
    "    while n > 0:\n",
    "        tot += pow(n % 10, 2)\n",
    "        n //= 10\n",
    "    return tot\n",
    "\n",
    "num = int(input(\"Enter Value = \"))\n",
    "temp = num\n",
    "\n",
    "while temp != 1 and temp != 4:\n",
    "    temp = sqrSum(temp)\n",
    "\n",
    "if temp == 1:\n",
    "    print('It is a Happy Number')\n",
    "else:\n",
    "    print('It is Not a Happy Number')"
   ]
  },
  {
   "cell_type": "code",
   "execution_count": 19,
   "id": "15701a1c",
   "metadata": {},
   "outputs": [
    {
     "name": "stdout",
     "output_type": "stream",
     "text": [
      "Enter Value = 100\n",
      "It is a Happy Number\n"
     ]
    }
   ],
   "source": [
    "def sqrSum(n):\n",
    "    tot =  0\n",
    "    while n > 0:\n",
    "        tot += pow(n % 10, 2)\n",
    "        n //= 10\n",
    "    return tot\n",
    "\n",
    "num = int(input(\"Enter Value = \"))\n",
    "temp = num\n",
    "\n",
    "while temp != 1 and temp != 4:\n",
    "    temp = sqrSum(temp)\n",
    "\n",
    "if temp == 1:\n",
    "    print('It is a Happy Number')\n",
    "else:\n",
    "    print('It is Not a Happy Number')"
   ]
  },
  {
   "cell_type": "code",
   "execution_count": null,
   "id": "f721681d",
   "metadata": {},
   "outputs": [],
   "source": [
    "#4.write a Python program to print all happy numbers between 1 and 100?"
   ]
  },
  {
   "cell_type": "code",
   "execution_count": 3,
   "id": "5098a870",
   "metadata": {},
   "outputs": [
    {
     "name": "stdout",
     "output_type": "stream",
     "text": [
      "Enter the starting Value  = 1\n",
      "Enter the ending Value = 100\n",
      "1    7    10    13    19    23    28    31    32    44    49    68    70    79    82    86    91    94    97    100    "
     ]
    }
   ],
   "source": [
    "def sqrSum(n):\n",
    "    total =  0\n",
    "    for i in str(n):\n",
    "        total +=pow(int(i), 2)\n",
    "    return total\n",
    "\n",
    "low = int(input('Enter the starting Value  = '))\n",
    "high = int(input('Enter the ending Value = '))\n",
    "\n",
    "for i in range(low, high + 1):\n",
    "    temp = i\n",
    "    while temp != 1 and temp != 4:\n",
    "        temp = sqrSum(temp)\n",
    "    if temp == 1:\n",
    "        print(i , end = '    ')"
   ]
  },
  {
   "cell_type": "code",
   "execution_count": null,
   "id": "d462150a",
   "metadata": {},
   "outputs": [],
   "source": [
    "#5.Write a Python program to determine whether the given number is a Harshad Number?\n",
    "\n",
    "#A An integer number in base 10 which is divisible by the sum of\n",
    "# its digits is said to be a Harshad Number. An n-Harshad number\n",
    "# is an integer number divisible by the sum of its digit in base n.\n"
   ]
  },
  {
   "cell_type": "code",
   "execution_count": 4,
   "id": "da3cb7c0",
   "metadata": {},
   "outputs": [
    {
     "name": "stdout",
     "output_type": "stream",
     "text": [
      "Enter a number:-52\n",
      "52 is not a harshad number\n"
     ]
    }
   ],
   "source": [
    "num = int(input(\"Enter a number:-\"))    \n",
    "rem = sum = 0    \n",
    "n = num    \n",
    "     \n",
    "while(num > 0):    \n",
    "    rem = num%10    \n",
    "    sum = sum + rem    \n",
    "    num = num//10    \n",
    "     \n",
    "if(n%sum == 0):    \n",
    "    print(str(n) + \" is a harshad number\")  \n",
    "else:    \n",
    "    print(str(n) + \" is not a harshad number\")    "
   ]
  },
  {
   "cell_type": "code",
   "execution_count": 5,
   "id": "35900ffa",
   "metadata": {},
   "outputs": [
    {
     "name": "stdout",
     "output_type": "stream",
     "text": [
      "Enter a number:-12\n",
      "12 is a harshad number\n"
     ]
    }
   ],
   "source": [
    "num = int(input(\"Enter a number:-\"))    \n",
    "rem = sum = 0    \n",
    "n = num    \n",
    "     \n",
    "while(num > 0):    \n",
    "    rem = num%10    \n",
    "    sum = sum + rem    \n",
    "    num = num//10    \n",
    "     \n",
    "if(n%sum == 0):    \n",
    "    print(str(n) + \" is a harshad number\")  \n",
    "else:    \n",
    "    print(str(n) + \" is not a harshad number\")"
   ]
  },
  {
   "cell_type": "code",
   "execution_count": null,
   "id": "95904b5d",
   "metadata": {},
   "outputs": [],
   "source": [
    "#6.Write a Python program to print all pronic numbers between 1 and 100?\n",
    "\n",
    "#A The numbers that can be arranged to form a rectangle\n",
    "# are called Rectangular Numbers (also known as Pronic numbers)."
   ]
  },
  {
   "cell_type": "code",
   "execution_count": 7,
   "id": "0651fb4f",
   "metadata": {},
   "outputs": [
    {
     "name": "stdout",
     "output_type": "stream",
     "text": [
      "Pronic numbers between 1 and 100: \n",
      "2\n",
      " \n",
      "6\n",
      " \n",
      "12\n",
      " \n",
      "20\n",
      " \n",
      "30\n",
      " \n",
      "42\n",
      " \n",
      "56\n",
      " \n",
      "72\n",
      " \n",
      "90\n",
      " \n"
     ]
    }
   ],
   "source": [
    "def isPronic(num):    \n",
    "    flag = False    \n",
    "        \n",
    "    for j in range(1, num+1):    \n",
    "        if((j*(j+1)) == num):    \n",
    "            flag = True    \n",
    "            break    \n",
    "    return flag    \n",
    "     \n",
    "print(\"Pronic numbers between 1 and 100: \")    \n",
    "for i in range(1, 101):    \n",
    "    if(isPronic(i)):    \n",
    "        print(i)    \n",
    "        print(\" \")    "
   ]
  }
 ],
 "metadata": {
  "kernelspec": {
   "display_name": "Python 3 (ipykernel)",
   "language": "python",
   "name": "python3"
  },
  "language_info": {
   "codemirror_mode": {
    "name": "ipython",
    "version": 3
   },
   "file_extension": ".py",
   "mimetype": "text/x-python",
   "name": "python",
   "nbconvert_exporter": "python",
   "pygments_lexer": "ipython3",
   "version": "3.9.7"
  }
 },
 "nbformat": 4,
 "nbformat_minor": 5
}
